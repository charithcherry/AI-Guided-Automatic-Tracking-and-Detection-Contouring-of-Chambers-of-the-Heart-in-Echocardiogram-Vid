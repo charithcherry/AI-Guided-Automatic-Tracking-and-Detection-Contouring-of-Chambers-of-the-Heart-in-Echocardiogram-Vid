{
 "cells": [
  {
   "cell_type": "code",
   "execution_count": 1,
   "id": "2aa0a977",
   "metadata": {},
   "outputs": [
    {
     "ename": "NameError",
     "evalue": "name 'brea' is not defined",
     "output_type": "error",
     "traceback": [
      "\u001b[1;31m---------------------------------------------------------------------------\u001b[0m",
      "\u001b[1;31mNameError\u001b[0m                                 Traceback (most recent call last)",
      "\u001b[1;32m~\\AppData\\Local\\Temp/ipykernel_8556/2161756063.py\u001b[0m in \u001b[0;36m<module>\u001b[1;34m\u001b[0m\n\u001b[0;32m     26\u001b[0m     \u001b[0mtime\u001b[0m\u001b[1;33m.\u001b[0m\u001b[0msleep\u001b[0m\u001b[1;33m(\u001b[0m\u001b[1;36m0.1\u001b[0m\u001b[1;33m)\u001b[0m\u001b[1;33m\u001b[0m\u001b[1;33m\u001b[0m\u001b[0m\n\u001b[0;32m     27\u001b[0m     \u001b[0mret\u001b[0m\u001b[1;33m,\u001b[0m \u001b[0mframe\u001b[0m \u001b[1;33m=\u001b[0m \u001b[0mvideo_capture\u001b[0m\u001b[1;33m.\u001b[0m\u001b[0mread\u001b[0m\u001b[1;33m(\u001b[0m\u001b[1;33m)\u001b[0m\u001b[1;33m\u001b[0m\u001b[1;33m\u001b[0m\u001b[0m\n\u001b[1;32m---> 28\u001b[1;33m     \u001b[1;32mif\u001b[0m\u001b[1;33m(\u001b[0m\u001b[0mframe\u001b[0m \u001b[1;32mis\u001b[0m \u001b[1;32mNone\u001b[0m\u001b[1;33m)\u001b[0m\u001b[1;33m:\u001b[0m \u001b[0mbrea\u001b[0m\u001b[1;33m\u001b[0m\u001b[1;33m\u001b[0m\u001b[0m\n\u001b[0m\u001b[0;32m     29\u001b[0m     \u001b[0mframe_mask\u001b[0m \u001b[1;33m=\u001b[0m \u001b[0mmy_back_detector\u001b[0m\u001b[1;33m.\u001b[0m\u001b[0mreturnMask\u001b[0m\u001b[1;33m(\u001b[0m\u001b[0mframe\u001b[0m\u001b[1;33m,\u001b[0m \u001b[0mmorph_opening\u001b[0m\u001b[1;33m=\u001b[0m\u001b[1;32mTrue\u001b[0m\u001b[1;33m,\u001b[0m \u001b[0mblur\u001b[0m\u001b[1;33m=\u001b[0m\u001b[1;32mTrue\u001b[0m\u001b[1;33m,\u001b[0m \u001b[0mkernel_size\u001b[0m\u001b[1;33m=\u001b[0m\u001b[1;36m5\u001b[0m\u001b[1;33m,\u001b[0m \u001b[0miterations\u001b[0m\u001b[1;33m=\u001b[0m\u001b[1;36m2\u001b[0m\u001b[1;33m)\u001b[0m\u001b[1;33m\u001b[0m\u001b[1;33m\u001b[0m\u001b[0m\n\u001b[0;32m     30\u001b[0m     \u001b[1;32mif\u001b[0m\u001b[1;33m(\u001b[0m\u001b[0mmy_mask_analyser\u001b[0m\u001b[1;33m.\u001b[0m\u001b[0mreturnNumberOfContours\u001b[0m\u001b[1;33m(\u001b[0m\u001b[0mframe_mask\u001b[0m\u001b[1;33m)\u001b[0m \u001b[1;33m>\u001b[0m \u001b[1;36m0\u001b[0m\u001b[1;33m)\u001b[0m\u001b[1;33m:\u001b[0m\u001b[1;33m\u001b[0m\u001b[1;33m\u001b[0m\u001b[0m\n",
      "\u001b[1;31mNameError\u001b[0m: name 'brea' is not defined"
     ]
    }
   ],
   "source": [
    "import cv2\n",
    "import numpy as np\n",
    "from color_detection import BackProjectionColorDetector\n",
    "from mask_analysis import BinaryMaskAnalyser\n",
    "from motion_tracking import ParticleFilter\n",
    "import time\n",
    "\n",
    "USE_WEBCAM = False\n",
    "\n",
    "template = cv2.imread('save/IM_0003_1.jpg')\n",
    "if(USE_WEBCAM == False):\n",
    "    video_capture = cv2.VideoCapture(\"./mov-series-003.avi\")\n",
    "else:\n",
    "    video_capture = cv2.VideoCapture(0) \n",
    "fourcc = cv2.VideoWriter_fourcc(*'XVID')\n",
    "out = cv2.VideoWriter(\"./output.avi\", fourcc, 25.0, (1920,1080))\n",
    "my_mask_analyser = BinaryMaskAnalyser()\n",
    "my_back_detector = BackProjectionColorDetector()\n",
    "my_back_detector.setTemplate(template)\n",
    "tot_particles = 2500\n",
    "std = 15\n",
    "my_particle = ParticleFilter(1920, 1080, tot_particles)\n",
    "noise_probability = 0.15\n",
    "\n",
    "while(True):\n",
    "    time.sleep(0.1)\n",
    "    ret, frame = video_capture.read()\n",
    "    if(frame is None): brea\n",
    "    frame_mask = my_back_detector.returnMask(frame, morph_opening=True, blur=True, kernel_size=5, iterations=2)\n",
    "    if(my_mask_analyser.returnNumberOfContours(frame_mask) > 0):\n",
    "        x_rect,y_rect,w_rect,h_rect = my_mask_analyser.returnMaxAreaRectangle(frame_mask)\n",
    "        x_center, y_center = my_mask_analyser.returnMaxAreaCenter(frame_mask)\n",
    "        coin = np.random.uniform()\n",
    "        if(coin >= 1.0-noise_probability): \n",
    "            x_noise = int(np.random.uniform(-300, 300))\n",
    "            y_noise = int(np.random.uniform(-300, 300))\n",
    "        else: \n",
    "            x_noise = 0\n",
    "            y_noise = 0\n",
    "        x_rect += x_noise\n",
    "        y_rect += y_noise\n",
    "        x_center += x_noise\n",
    "        y_center += y_noise\n",
    "        cv2.rectangle(frame, (x_rect,y_rect), (x_rect+w_rect,y_rect+h_rect), [255,0,0], 2) \n",
    "    my_particle.predict(x_velocity=0, y_velocity=0, std=std)\n",
    "    my_particle.drawParticles(frame)\n",
    "    x_estimated, y_estimated, _, _ = my_particle.estimate()\n",
    "    cv2.circle(frame, (x_estimated, y_estimated), 3, [0,255,0], 5) \n",
    "    my_particle.update(x_center, y_center)\n",
    "    my_particle.resample()\n",
    "    out.write(frame)\n",
    "    cv2.imshow('Original', frame) \n",
    "    key=cv2.waitKey(1)\n",
    "    if key==27:\n",
    "        break\n",
    "video_capture.release()\n",
    "cv2.destroyAllWindows()"
   ]
  },
  {
   "cell_type": "code",
   "execution_count": null,
   "id": "ac162161",
   "metadata": {},
   "outputs": [],
   "source": []
  }
 ],
 "metadata": {
  "kernelspec": {
   "display_name": "Python 3 (ipykernel)",
   "language": "python",
   "name": "python3"
  },
  "language_info": {
   "codemirror_mode": {
    "name": "ipython",
    "version": 3
   },
   "file_extension": ".py",
   "mimetype": "text/x-python",
   "name": "python",
   "nbconvert_exporter": "python",
   "pygments_lexer": "ipython3",
   "version": "3.9.6"
  }
 },
 "nbformat": 4,
 "nbformat_minor": 5
}
