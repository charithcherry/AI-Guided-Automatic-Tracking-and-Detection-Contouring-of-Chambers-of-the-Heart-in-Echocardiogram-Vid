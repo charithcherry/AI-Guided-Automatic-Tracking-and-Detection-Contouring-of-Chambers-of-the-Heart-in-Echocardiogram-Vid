{
 "cells": [
  {
   "cell_type": "markdown",
   "id": "2734c7b2",
   "metadata": {},
   "source": [
    "# Image Extraction and Annotation using PyDicom"
   ]
  },
  {
   "cell_type": "code",
   "execution_count": null,
   "id": "10a79588",
   "metadata": {},
   "outputs": [],
   "source": [
    "\n",
    "from AdjustBoundary import adjustContour\n",
    "from helper import find_files, read_image, selectFrames, save_images\n",
    "import numpy as np\n",
    "import cv2\n",
    "import matplotlib.pyplot as plt\n",
    "import pydicom\n",
    "import os\n",
    "import matplotlib\n",
    "matplotlib.use('Qt5Agg')\n",
    "\n",
    "image_files = find_files()\n",
    "frNum = int(input('Enter frame number: '))\n",
    "selectFrames(image_files, frNum-1, frNum)   # Show the selected frames of all the images\n",
    "i = 0\n",
    "crop = 30\n",
    "\n",
    "while i < len(image_files):\n",
    "    ctr = None\n",
    "    name = image_files[i].split(\".\")[0]\n",
    "    c_save = name + \"_inx.txt\"\n",
    "\n",
    "    if os.path.isfile(c_save):           ctr = np.loadtxt(c_save)\n",
    "    im = read_image(image_files[i], frNum)\n",
    "    im = im[crop:-crop,crop:-crop]\n",
    "\n",
    "    exit_mode = adjustContour(im, ctr, im.shape, crop, c_save)\n",
    "    save_images(image_files[i], frNum)\n",
    "    if exit_mode == 'exit':                 break\n",
    "    if exit_mode == 'previous':             i = i - 1\n",
    "    if exit_mode == 'next':                 i = i + 1\n",
    "    if exit_mode == 'done':                 pass\n",
    "    i += 1\n"
   ]
  },
  {
   "cell_type": "markdown",
   "id": "5c642200",
   "metadata": {},
   "source": [
    "# Thresholding the given Image"
   ]
  },
  {
   "cell_type": "code",
   "execution_count": 1,
   "id": "5030c24c",
   "metadata": {},
   "outputs": [],
   "source": [
    "import cv2 \n",
    "\n",
    "src = cv2.imread(\"save/IM_0013_1.jpg\", cv2.IMREAD_GRAYSCALE); \n",
    "th, dst = cv2.threshold(src, 0, 255, cv2.THRESH_BINARY); \n",
    "cv2.imwrite(\"opencv-threshold-example.jpg\", dst); \n",
    "\n",
    "# # Thresholding with maxValue set to 128\n",
    "#th, dst = cv2.threshold(src, 0, 128, cv2.THRESH_BINARY); \n",
    "#cv2.imwrite(\"opencv-thresh-binary-maxval.jpg\", dst); \n",
    "\n",
    "# th, dst = cv2.threshold(src,127,255, cv2.THRESH_BINARY); \n",
    "# cv2.imwrite(\"opencv-thresh-binary.jpg\", dst); \n",
    "\n",
    "# th, dst = cv2.threshold(src,127,255, cv2.THRESH_BINARY_INV); \n",
    "# cv2.imwrite(\"opencv-thresh-binary-inv.jpg\", dst); \n",
    "\n",
    "# th, dst = cv2.threshold(src,127,255, cv2.THRESH_TRUNC); \n",
    "# cv2.imwrite(\"opencv-thresh-trunc.jpg\", dst); \n",
    "\n",
    "# th, dst = cv2.threshold(src,127,255, cv2.THRESH_TOZERO); \n",
    "# cv2.imwrite(\"opencv-thresh-tozero.jpg\", dst); \n",
    "\n",
    "# th, dst = cv2.threshold(src,127,255, cv2.THRESH_TOZERO_INV); \n",
    "# cv2.imwrite(\"opencv-thresh-to-zero-inv.jpg\", dst); "
   ]
  },
  {
   "cell_type": "markdown",
   "id": "14f2a590",
   "metadata": {},
   "source": [
    "\n",
    "# Finding and Drawing the Contours based on thresholded Image"
   ]
  },
  {
   "cell_type": "code",
   "execution_count": 2,
   "id": "cf7d1f45",
   "metadata": {},
   "outputs": [],
   "source": [
    "# detect the contours on the binary image using cv2.CHAIN_APPROX_NONE\n",
    "contours, hierarchy = cv2.findContours(image=dst, mode=cv2.RETR_TREE, method=cv2.CHAIN_APPROX_NONE)\n",
    "                                     \n",
    "# draw contours on the original image\n",
    "image_copy = dst.copy()\n",
    "cv2.drawContours(image=image_copy, contours=contours[9], contourIdx=-1, color=(0, 255, 0), thickness=2, lineType=cv2.LINE_AA)\n",
    "               \n",
    "# see the results\n",
    "cv2.imshow('None approximation', image_copy)\n",
    "cv2.waitKey(0)\n",
    "cv2.imwrite('contours_none_image1.jpg', image_copy)\n",
    "cv2.destroyAllWindows()"
   ]
  },
  {
   "cell_type": "code",
   "execution_count": 3,
   "id": "c118288f",
   "metadata": {},
   "outputs": [],
   "source": [
    "src = cv2.imread(\"opencv-threshold-example.jpg\")\n",
    "cv2.drawContours(image=src, contours=contours[9], contourIdx=-1, color=(0, 255, 0), thickness=2, lineType=cv2.LINE_AA)\n",
    "cv2.imshow('None approximation', src)\n",
    "cv2.waitKey(0)\n",
    "cv2.imwrite('contours_none_image1.jpg', src)\n",
    "cv2.destroyAllWindows()"
   ]
  },
  {
   "cell_type": "markdown",
   "id": "e3800b44",
   "metadata": {},
   "source": [
    "# Functions for automating the Process"
   ]
  },
  {
   "cell_type": "code",
   "execution_count": 4,
   "id": "e2632891",
   "metadata": {},
   "outputs": [],
   "source": [
    "import csv\n",
    "def find_centroid(filepath):\n",
    "    xes = []\n",
    "    ys = []\n",
    "    with open(filepath) as f:\n",
    "         for line in f:\n",
    "             x, y = map(float,line.split())\n",
    "             xes.append(x)\n",
    "             ys.append(y)\n",
    "    x_cent=int(sum(xes)/len(xes))\n",
    "    y_cent=int(sum(ys)/len(ys))\n",
    "    #print(x_cent*3.14)\n",
    "    #print(y_cent*3.22)\n",
    "    return (int(x_cent*3.14),int(y_cent*3.22))"
   ]
  },
  {
   "cell_type": "code",
   "execution_count": 5,
   "id": "6380dbea",
   "metadata": {},
   "outputs": [],
   "source": [
    "import operator\n",
    "def cal_index(contours):\n",
    "    area={}\n",
    "    ind=[]\n",
    "    c=[]\n",
    "    for i,x in enumerate(contours):\n",
    "        area[i]=cv2.contourArea(x)\n",
    "    desc_area=sorted(area.items(),key=operator.itemgetter(1),reverse=True)\n",
    "    de=desc_area[:6]\n",
    "    for i in range(len(de)):\n",
    "        ind.append(de[i][0])\n",
    "    for i in ind:\n",
    "        c.append(contours[i])\n",
    "    print(ind)\n",
    "    for x in range(len(ind)-1,-1,-1):\n",
    "        if cv2.pointPolygonTest(contours[ind[x]], find_centroid('data/IM_0008-01_inx.txt'), False) == 1.0:\n",
    "            print(x)\n",
    "            return ind[x]\n",
    "     "
   ]
  },
  {
   "cell_type": "code",
   "execution_count": 9,
   "id": "41b33536",
   "metadata": {},
   "outputs": [
    {
     "name": "stdout",
     "output_type": "stream",
     "text": [
      "[1560, 2051, 279, 1806, 780, 1136]\n",
      "1\n"
     ]
    }
   ],
   "source": [
    "import cv2 \n",
    "src = cv2.imread(\"save/IM_0008_1.jpg\", cv2.IMREAD_GRAYSCALE); \n",
    "th, dst = cv2.threshold(src, 0, 255, cv2.THRESH_BINARY); \n",
    "cv2.imwrite(\"opencv-threshold-example.jpg\", dst);\n",
    "contours, hierarchy = cv2.findContours(image=dst, mode=cv2.RETR_TREE, method=cv2.CHAIN_APPROX_NONE)\n",
    "contours1=contours\n",
    "image_copy = cv2.imread(\"opencv-threshold-example.jpg\")\n",
    "cv2.drawContours(image=image_copy, contours=contours1[cal_index(contours)], contourIdx=-1, color=(0, 255, 0), thickness=2, lineType=cv2.LINE_AA)\n",
    "cv2.imshow('None approximation', image_copy)\n",
    "cv2.waitKey(0)\n",
    "cv2.imwrite('contours_none_image1.jpg', image_copy)\n",
    "cv2.destroyAllWindows()"
   ]
  },
  {
   "cell_type": "code",
   "execution_count": 10,
   "id": "4647f740",
   "metadata": {},
   "outputs": [],
   "source": [
    "def image_manipulation(src):\n",
    "    cv2.imwrite(\"opencv-original-example.jpg\",src)\n",
    "    (th, dst) = cv2.threshold(src, 0, 255, cv2.THRESH_BINARY); \n",
    "    cv2.imwrite(\"opencv-threshold-example.jpg\", dst);\n",
    "    contours, hierarchy = cv2.findContours(image=dst, mode=cv2.RETR_TREE, method=cv2.CHAIN_APPROX_NONE)\n",
    "    image_copy = cv2.imread(\"opencv-original-example.jpg\")\n",
    "    cv2.drawContours(image=image_copy, contours=contours[cal_index(contours)], contourIdx=-1, color=(0, 255, 0), thickness=2, lineType=cv2.LINE_AA)\n",
    "    cv2.imwrite('contours_none_image1.jpg', image_copy)\n",
    "    return image_copy"
   ]
  },
  {
   "cell_type": "code",
   "execution_count": 12,
   "id": "b9ddec0e",
   "metadata": {},
   "outputs": [
    {
     "name": "stdout",
     "output_type": "stream",
     "text": [
      "[173, 185, 164, 84, 172, 144]\n"
     ]
    },
    {
     "ename": "TypeError",
     "evalue": "tuple indices must be integers or slices, not NoneType",
     "output_type": "error",
     "traceback": [
      "\u001b[1;31m---------------------------------------------------------------------------\u001b[0m",
      "\u001b[1;31mTypeError\u001b[0m                                 Traceback (most recent call last)",
      "\u001b[1;32m~\\AppData\\Local\\Temp/ipykernel_8468/1807064050.py\u001b[0m in \u001b[0;36m<module>\u001b[1;34m\u001b[0m\n\u001b[0;32m      5\u001b[0m     \u001b[0mret\u001b[0m\u001b[1;33m,\u001b[0m \u001b[0mframe\u001b[0m \u001b[1;33m=\u001b[0m \u001b[0mcap\u001b[0m\u001b[1;33m.\u001b[0m\u001b[0mread\u001b[0m\u001b[1;33m(\u001b[0m\u001b[1;33m)\u001b[0m\u001b[1;33m\u001b[0m\u001b[1;33m\u001b[0m\u001b[0m\n\u001b[0;32m      6\u001b[0m     \u001b[0mframe\u001b[0m\u001b[1;33m=\u001b[0m\u001b[0mcv2\u001b[0m\u001b[1;33m.\u001b[0m\u001b[0mcvtColor\u001b[0m\u001b[1;33m(\u001b[0m\u001b[0mframe\u001b[0m\u001b[1;33m,\u001b[0m \u001b[0mcv2\u001b[0m\u001b[1;33m.\u001b[0m\u001b[0mCOLOR_RGB2GRAY\u001b[0m\u001b[1;33m)\u001b[0m\u001b[1;33m\u001b[0m\u001b[1;33m\u001b[0m\u001b[0m\n\u001b[1;32m----> 7\u001b[1;33m     \u001b[0mframe\u001b[0m\u001b[1;33m=\u001b[0m\u001b[0mimage_manipulation\u001b[0m\u001b[1;33m(\u001b[0m\u001b[0mframe\u001b[0m\u001b[1;33m)\u001b[0m\u001b[1;33m\u001b[0m\u001b[1;33m\u001b[0m\u001b[0m\n\u001b[0m\u001b[0;32m      8\u001b[0m     \u001b[0mcv2\u001b[0m\u001b[1;33m.\u001b[0m\u001b[0mimshow\u001b[0m\u001b[1;33m(\u001b[0m\u001b[1;34m'Original'\u001b[0m\u001b[1;33m,\u001b[0m \u001b[0mframe\u001b[0m\u001b[1;33m)\u001b[0m\u001b[1;33m\u001b[0m\u001b[1;33m\u001b[0m\u001b[0m\n\u001b[0;32m      9\u001b[0m     \u001b[0mtime\u001b[0m\u001b[1;33m.\u001b[0m\u001b[0msleep\u001b[0m\u001b[1;33m(\u001b[0m\u001b[1;36m0.05\u001b[0m\u001b[1;33m)\u001b[0m\u001b[1;33m\u001b[0m\u001b[1;33m\u001b[0m\u001b[0m\n",
      "\u001b[1;32m~\\AppData\\Local\\Temp/ipykernel_8468/3895843834.py\u001b[0m in \u001b[0;36mimage_manipulation\u001b[1;34m(src)\u001b[0m\n\u001b[0;32m      5\u001b[0m     \u001b[0mcontours\u001b[0m\u001b[1;33m,\u001b[0m \u001b[0mhierarchy\u001b[0m \u001b[1;33m=\u001b[0m \u001b[0mcv2\u001b[0m\u001b[1;33m.\u001b[0m\u001b[0mfindContours\u001b[0m\u001b[1;33m(\u001b[0m\u001b[0mimage\u001b[0m\u001b[1;33m=\u001b[0m\u001b[0mdst\u001b[0m\u001b[1;33m,\u001b[0m \u001b[0mmode\u001b[0m\u001b[1;33m=\u001b[0m\u001b[0mcv2\u001b[0m\u001b[1;33m.\u001b[0m\u001b[0mRETR_TREE\u001b[0m\u001b[1;33m,\u001b[0m \u001b[0mmethod\u001b[0m\u001b[1;33m=\u001b[0m\u001b[0mcv2\u001b[0m\u001b[1;33m.\u001b[0m\u001b[0mCHAIN_APPROX_NONE\u001b[0m\u001b[1;33m)\u001b[0m\u001b[1;33m\u001b[0m\u001b[1;33m\u001b[0m\u001b[0m\n\u001b[0;32m      6\u001b[0m     \u001b[0mimage_copy\u001b[0m \u001b[1;33m=\u001b[0m \u001b[0mcv2\u001b[0m\u001b[1;33m.\u001b[0m\u001b[0mimread\u001b[0m\u001b[1;33m(\u001b[0m\u001b[1;34m\"opencv-original-example.jpg\"\u001b[0m\u001b[1;33m)\u001b[0m\u001b[1;33m\u001b[0m\u001b[1;33m\u001b[0m\u001b[0m\n\u001b[1;32m----> 7\u001b[1;33m     \u001b[0mcv2\u001b[0m\u001b[1;33m.\u001b[0m\u001b[0mdrawContours\u001b[0m\u001b[1;33m(\u001b[0m\u001b[0mimage\u001b[0m\u001b[1;33m=\u001b[0m\u001b[0mimage_copy\u001b[0m\u001b[1;33m,\u001b[0m \u001b[0mcontours\u001b[0m\u001b[1;33m=\u001b[0m\u001b[0mcontours\u001b[0m\u001b[1;33m[\u001b[0m\u001b[0mcal_index\u001b[0m\u001b[1;33m(\u001b[0m\u001b[0mcontours\u001b[0m\u001b[1;33m)\u001b[0m\u001b[1;33m]\u001b[0m\u001b[1;33m,\u001b[0m \u001b[0mcontourIdx\u001b[0m\u001b[1;33m=\u001b[0m\u001b[1;33m-\u001b[0m\u001b[1;36m1\u001b[0m\u001b[1;33m,\u001b[0m \u001b[0mcolor\u001b[0m\u001b[1;33m=\u001b[0m\u001b[1;33m(\u001b[0m\u001b[1;36m0\u001b[0m\u001b[1;33m,\u001b[0m \u001b[1;36m255\u001b[0m\u001b[1;33m,\u001b[0m \u001b[1;36m0\u001b[0m\u001b[1;33m)\u001b[0m\u001b[1;33m,\u001b[0m \u001b[0mthickness\u001b[0m\u001b[1;33m=\u001b[0m\u001b[1;36m2\u001b[0m\u001b[1;33m,\u001b[0m \u001b[0mlineType\u001b[0m\u001b[1;33m=\u001b[0m\u001b[0mcv2\u001b[0m\u001b[1;33m.\u001b[0m\u001b[0mLINE_AA\u001b[0m\u001b[1;33m)\u001b[0m\u001b[1;33m\u001b[0m\u001b[1;33m\u001b[0m\u001b[0m\n\u001b[0m\u001b[0;32m      8\u001b[0m     \u001b[0mcv2\u001b[0m\u001b[1;33m.\u001b[0m\u001b[0mimwrite\u001b[0m\u001b[1;33m(\u001b[0m\u001b[1;34m'contours_none_image1.jpg'\u001b[0m\u001b[1;33m,\u001b[0m \u001b[0mimage_copy\u001b[0m\u001b[1;33m)\u001b[0m\u001b[1;33m\u001b[0m\u001b[1;33m\u001b[0m\u001b[0m\n\u001b[0;32m      9\u001b[0m     \u001b[1;32mreturn\u001b[0m \u001b[0mimage_copy\u001b[0m\u001b[1;33m\u001b[0m\u001b[1;33m\u001b[0m\u001b[0m\n",
      "\u001b[1;31mTypeError\u001b[0m: tuple indices must be integers or slices, not NoneType"
     ]
    }
   ],
   "source": [
    "import time\n",
    "import cv2\n",
    "cap=cv2.VideoCapture('mov-series-008.avi')\n",
    "while(1):\n",
    "    ret, frame = cap.read()  \n",
    "    frame=cv2.cvtColor(frame, cv2.COLOR_RGB2GRAY)\n",
    "    frame=image_manipulation(frame)\n",
    "    cv2.imshow('Original', frame) \n",
    "    time.sleep(0.05)\n",
    "    key=cv2.waitKey(1)\n",
    "    if key==27:\n",
    "        break\n",
    "cap.release()\n",
    "cv2.destroyAllWindows()"
   ]
  },
  {
   "cell_type": "markdown",
   "id": "2fcc0c19",
   "metadata": {},
   "source": [
    "# Method:Mean Filter"
   ]
  },
  {
   "cell_type": "code",
   "execution_count": null,
   "id": "4da2aefe",
   "metadata": {},
   "outputs": [],
   "source": [
    "import numpy as np\n",
    "import cv2\n",
    "from matplotlib import pyplot as plt\n",
    "from PIL import Image, ImageFilter\n",
    "%matplotlib inline\n",
    "image = cv2.imread('opencv-threshold-example.jpg') # reads the image\n",
    "image = cv2.cvtColor(image, cv2.COLOR_BGR2HSV) # convert to HSV\n",
    "figure_size = 9 # the dimension of the x and y axis of the kernal.\n",
    "new_image = cv2.blur(image,(figure_size, figure_size))\n",
    "plt.figure(figsize=(11,6))\n",
    "plt.subplot(121), plt.imshow(cv2.cvtColor(image, cv2.COLOR_HSV2RGB)),plt.title('Original')\n",
    "plt.xticks([]), plt.yticks([])\n",
    "plt.subplot(122), plt.imshow(cv2.cvtColor(new_image, cv2.COLOR_HSV2RGB)),plt.title('Mean filter')\n",
    "plt.xticks([]), plt.yticks([])\n",
    "plt.show()\n"
   ]
  },
  {
   "cell_type": "code",
   "execution_count": null,
   "id": "879651ef",
   "metadata": {},
   "outputs": [],
   "source": [
    "import cv2 \n",
    "\n",
    "src = cv2.imread(\"save/IM_0008_1.jpg\"); \n",
    "src = cv2.cvtColor(src, cv2.COLOR_BGR2HSV)\n",
    "src = cv2.blur(src,(2,2))\n",
    "src=cv2.cvtColor(src, cv2.COLOR_HSV2RGB)\n",
    "src=cv2.cvtColor(src, cv2.COLOR_RGB2GRAY)\n",
    "th, dst = cv2.threshold(src, 0, 255, cv2.THRESH_BINARY);\n",
    "\n",
    "cv2.imwrite(\"opencv-threshold-example.jpg\", dst);\n",
    "contours, hierarchy = cv2.findContours(image=dst, mode=cv2.RETR_TREE, method=cv2.CHAIN_APPROX_NONE)\n",
    "image_copy = cv2.imread(\"opencv-threshold-example.jpg\")\n",
    "cv2.drawContours(image=image_copy, contours=contours[156], contourIdx=-1, color=(0, 255, 0), thickness=2, lineType=cv2.LINE_AA)\n",
    "cv2.imshow('None approximation', image_copy)\n",
    "cv2.waitKey(0)\n",
    "cv2.imwrite('contours_none_image1.jpg', image_copy)\n",
    "cv2.destroyAllWindows()"
   ]
  },
  {
   "cell_type": "markdown",
   "id": "90f8de94",
   "metadata": {},
   "source": [
    "# Centroid Calculation\n"
   ]
  },
  {
   "cell_type": "code",
   "execution_count": null,
   "id": "5639b609",
   "metadata": {},
   "outputs": [],
   "source": [
    "import csv\n",
    "def find_centroid(filepath):\n",
    "    xes = []\n",
    "    ys = []\n",
    "    with open(filepath) as f:\n",
    "         for line in f:\n",
    "             x, y = map(float,line.split())\n",
    "             xes.append(x)\n",
    "             ys.append(y)\n",
    "    x_cent=int(sum(xes)/len(xes))\n",
    "    y_cent=int(sum(ys)/len(ys))\n",
    "    #print(x_cent*3.14)\n",
    "    #print(y_cent*3.22)\n",
    "    return (int(x_cent),int(y_cent))\n"
   ]
  },
  {
   "cell_type": "code",
   "execution_count": null,
   "id": "ca12eb92",
   "metadata": {},
   "outputs": [],
   "source": [
    "img=cv2.imread('save/IM_0008_1.jpg')\n",
    "img = cv2.circle(img, find_centroid('data/IM_0008-01_inx.txt'), 5, (0,255,0), 10)\n",
    "cv2.imshow('Nosdfs', img)\n",
    "cv2.waitKey(0)\n",
    "cv2.destroyAllWindows()"
   ]
  },
  {
   "cell_type": "code",
   "execution_count": null,
   "id": "0a46605d",
   "metadata": {},
   "outputs": [],
   "source": [
    "import cv2\n",
    "  \n",
    "# function to display the coordinates of\n",
    "# of the points clicked on the image\n",
    "def click_event(event, x, y, flags, params):\n",
    " \n",
    "    # checking for left mouse clicks\n",
    "    if event == cv2.EVENT_LBUTTONDOWN:\n",
    " \n",
    "        # displaying the coordinates\n",
    "        # on the Shell\n",
    "        print(x, ' ', y)\n",
    " \n",
    "        # displaying the coordinates\n",
    "        # on the image window\n",
    "        font = cv2.FONT_HERSHEY_SIMPLEX\n",
    "        cv2.putText(img, str(x) + ',' +\n",
    "                    str(y), (x,y), font,\n",
    "                    1, (255, 0, 0), 2)\n",
    "        cv2.imshow('image', img)\n",
    " \n",
    "    # checking for right mouse clicks    \n",
    "    if event==cv2.EVENT_RBUTTONDOWN:\n",
    " \n",
    "        # displaying the coordinates\n",
    "        # on the Shell\n",
    "        print(x, ' ', y)\n",
    " \n",
    "        # displaying the coordinates\n",
    "        # on the image window\n",
    "        font = cv2.FONT_HERSHEY_SIMPLEX\n",
    "        b = img[y, x, 0]\n",
    "        g = img[y, x, 1]\n",
    "        r = img[y, x, 2]\n",
    "        cv2.putText(img, str(b) + ',' +\n",
    "                    str(g) + ',' + str(r),\n",
    "                    (x,y), font, 1,\n",
    "                    (255, 255, 0), 2)\n",
    "        cv2.imshow('image', img)\n",
    " \n",
    "# driver function\n",
    "if __name__==\"__main__\":\n",
    " \n",
    "    # reading the image\n",
    "    img = cv2.imread('save/IM_0003_1.jpg', 1)\n",
    " \n",
    "    # displaying the image\n",
    "    cv2.imshow('image', img)\n",
    " \n",
    "    # setting mouse handler for the image\n",
    "    # and calling the click_event() function\n",
    "    cv2.setMouseCallback('image', click_event)\n",
    " \n",
    "    # wait for a key to be pressed to exit\n",
    "    cv2.waitKey(0)\n",
    " \n",
    "    # close the window\n",
    "    cv2.destroyAllWindows()"
   ]
  },
  {
   "cell_type": "code",
   "execution_count": null,
   "id": "01c5200a",
   "metadata": {},
   "outputs": [],
   "source": [
    "def centroid(c):\n",
    "    xes = []\n",
    "    ys = []\n",
    "    for line in c:\n",
    "        x, y = map(float,line.split())\n",
    "        xes.append(x)\n",
    "        ys.append(y)\n",
    "    x_cent=int(sum(xes)/len(xes))\n",
    "    y_cent=int(sum(ys)/len(ys))\n",
    "    return (int(x_cent*3.14),int(y_cent*3.22))\n"
   ]
  },
  {
   "cell_type": "code",
   "execution_count": null,
   "id": "1ca9d591",
   "metadata": {},
   "outputs": [],
   "source": [
    "def near_centroid(centroid,contours):\n",
    "    a=[x for x in range(0,len(contours))]\n",
    "    diff=100000000\n",
    "    d=0\n",
    "    for i,x in zip(a,contours):\n",
    "        odd_i = []\n",
    "        even_i = []\n",
    "        st=x.reshape(-1)\n",
    "        for i in range(0, len(st)):\n",
    "            if i % 2:\n",
    "                even_i.append(st[i])\n",
    "            else :\n",
    "                odd_i.append(x.reshape(-1)[i])\n",
    "        xcord=sum(odd_i)/len(odd_i)    \n",
    "        ycord=sum(even_i)/len(even_i)\n",
    "        total=abs((xcord*3.12)-centroid[0])+abs((ycord*3.22)-centroid[1])\n",
    "        #print(total)\n",
    "        if total<diff:\n",
    "            diff=total\n",
    "            d=i\n",
    "    return d\n",
    "        \n",
    "        "
   ]
  },
  {
   "cell_type": "code",
   "execution_count": null,
   "id": "68dc4db9",
   "metadata": {},
   "outputs": [],
   "source": [
    "a=[x for x in range(0,len(contours))]\n",
    "for i,cnt in zip(a,contours):\n",
    "    print(contours,i)\n",
    "    for x,y in cnt[i]:\n",
    "        print(x,y)\n",
    "    "
   ]
  },
  {
   "cell_type": "code",
   "execution_count": null,
   "id": "a738a27d",
   "metadata": {},
   "outputs": [],
   "source": [
    "print(near_centroid((418,248),contours))"
   ]
  },
  {
   "cell_type": "code",
   "execution_count": null,
   "id": "3976627e",
   "metadata": {},
   "outputs": [],
   "source": [
    "contours[0].reshape(-1)"
   ]
  },
  {
   "cell_type": "code",
   "execution_count": null,
   "id": "e6c27636",
   "metadata": {},
   "outputs": [],
   "source": [
    "contours[1].reshape(-1)"
   ]
  },
  {
   "cell_type": "code",
   "execution_count": null,
   "id": "170bc546",
   "metadata": {},
   "outputs": [],
   "source": [
    "odd_i = []\n",
    "even_i = []\n",
    "for i in range(0, len(contours[1].reshape(-1))):\n",
    "    if i % 2:\n",
    "        even_i.append(contours[1].reshape(-1)[i])\n",
    "    else :\n",
    "        odd_i.append(contours[1].reshape(-1)[i])\n",
    "odd_i"
   ]
  },
  {
   "cell_type": "code",
   "execution_count": null,
   "id": "3bc3f931",
   "metadata": {},
   "outputs": [],
   "source": [
    "sum(even_i)/len(even_i)"
   ]
  },
  {
   "cell_type": "code",
   "execution_count": null,
   "id": "4eef0274",
   "metadata": {},
   "outputs": [],
   "source": [
    "even_i"
   ]
  },
  {
   "cell_type": "code",
   "execution_count": null,
   "id": "e72d3feb",
   "metadata": {},
   "outputs": [],
   "source": [
    "import numpy as np\n",
    "def cal_centroid(centroid,contours):\n",
    "    diff1=0\n",
    "    diff2=0\n",
    "    c=0\n",
    "    d=0\n",
    "    a=[x for x in range(0,len(contours))]\n",
    "    for i,x in zip(a,contours):\n",
    "        M = cv2.moments(x)\n",
    "        cx = int(M['m10']/M['m00'])\n",
    "        cy = int(M['m01']/M['m00'])\n",
    "        tot= np.sqrt(abs((cx-centroid[0])**2+(cy-centroid[1]**2)))\n",
    "        if tot>diff1:\n",
    "            diff1= tot\n",
    "            c=i\n",
    "    for i,x in zip(a,contours):\n",
    "        M = cv2.moments(x)\n",
    "        cx = int(M['m10']/M['m00'])\n",
    "        cy = int(M['m01']/M['m00'])\n",
    "        tot= np.sqrt(abs((cx-centroid[0])**2+(cy-centroid[1]**2)))\n",
    "        if tot>diff2 and tot!=diff1:\n",
    "            diff2= tot\n",
    "            d=i\n",
    "    return d"
   ]
  },
  {
   "cell_type": "code",
   "execution_count": null,
   "id": "6e8d2b19",
   "metadata": {
    "scrolled": true
   },
   "outputs": [],
   "source": [
    "cal_centroid((124,102),c)"
   ]
  },
  {
   "cell_type": "code",
   "execution_count": null,
   "id": "f4d8b289",
   "metadata": {},
   "outputs": [],
   "source": [
    "ind"
   ]
  },
  {
   "cell_type": "code",
   "execution_count": null,
   "id": "e1698457",
   "metadata": {},
   "outputs": [],
   "source": [
    "print(cv2.moments(c[0]))"
   ]
  },
  {
   "cell_type": "code",
   "execution_count": null,
   "id": "39d32d69",
   "metadata": {},
   "outputs": [],
   "source": [
    "result = cv2.pointPolygonTest(contours[1560], (418,248), False) \n",
    "result"
   ]
  },
  {
   "cell_type": "code",
   "execution_count": null,
   "id": "0d8f5a20",
   "metadata": {},
   "outputs": [],
   "source": [
    "contours[2051]"
   ]
  },
  {
   "cell_type": "code",
   "execution_count": null,
   "id": "68795341",
   "metadata": {},
   "outputs": [],
   "source": []
  },
  {
   "cell_type": "code",
   "execution_count": null,
   "id": "4389c304",
   "metadata": {},
   "outputs": [],
   "source": []
  }
 ],
 "metadata": {
  "kernelspec": {
   "display_name": "Python 3 (ipykernel)",
   "language": "python",
   "name": "python3"
  },
  "language_info": {
   "codemirror_mode": {
    "name": "ipython",
    "version": 3
   },
   "file_extension": ".py",
   "mimetype": "text/x-python",
   "name": "python",
   "nbconvert_exporter": "python",
   "pygments_lexer": "ipython3",
   "version": "3.9.6"
  }
 },
 "nbformat": 4,
 "nbformat_minor": 5
}
