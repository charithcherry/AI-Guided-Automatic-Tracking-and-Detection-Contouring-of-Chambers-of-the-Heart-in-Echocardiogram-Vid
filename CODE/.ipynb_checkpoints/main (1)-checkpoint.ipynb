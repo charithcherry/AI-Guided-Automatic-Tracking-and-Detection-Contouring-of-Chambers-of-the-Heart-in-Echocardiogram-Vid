{
 "cells": [
  {
   "cell_type": "markdown",
   "id": "2734c7b2",
   "metadata": {},
   "source": [
    "# Image Extraction and Annotation using PyDicom"
   ]
  },
  {
   "cell_type": "code",
   "execution_count": 1,
   "id": "10a79588",
   "metadata": {},
   "outputs": [
    {
     "name": "stdout",
     "output_type": "stream",
     "text": [
      "Enter frame number: 5\n",
      "True\n"
     ]
    }
   ],
   "source": [
    "\n",
    "from AdjustBoundary import adjustContour\n",
    "from helper import find_files, read_image, selectFrames, save_images\n",
    "import numpy as np\n",
    "import cv2\n",
    "import matplotlib.pyplot as plt\n",
    "import pydicom\n",
    "import os\n",
    "import matplotlib\n",
    "matplotlib.use('Qt5Agg')\n",
    "\n",
    "image_files = find_files()\n",
    "frNum = int(input('Enter frame number: '))\n",
    "selectFrames(image_files, frNum-1, frNum)   # Show the selected frames of all the images\n",
    "i = 0\n",
    "crop = 30\n",
    "\n",
    "while i < len(image_files):\n",
    "    ctr = None\n",
    "    name = image_files[i].split(\".\")[0]\n",
    "    c_save = name + \"_inx.txt\"\n",
    "\n",
    "    if os.path.isfile(c_save):           ctr = np.loadtxt(c_save)\n",
    "    im = read_image(image_files[i], frNum)\n",
    "    im = im[crop:-crop,crop:-crop]\n",
    "\n",
    "    exit_mode = adjustContour(im, ctr, im.shape, crop, c_save)\n",
    "    save_images(image_files[i], frNum)\n",
    "    if exit_mode == 'exit':                 break\n",
    "    if exit_mode == 'previous':             i = i - 1\n",
    "    if exit_mode == 'next':                 i = i + 1\n",
    "    if exit_mode == 'done':                 pass\n",
    "    i += 1\n"
   ]
  },
  {
   "cell_type": "markdown",
   "id": "5c642200",
   "metadata": {},
   "source": [
    "# Thresholding the given Image"
   ]
  },
  {
   "cell_type": "code",
   "execution_count": 1,
   "id": "5030c24c",
   "metadata": {},
   "outputs": [],
   "source": [
    "import cv2 \n",
    "\n",
    "src = cv2.imread(\"save/IM_0013_1.jpg\", cv2.IMREAD_GRAYSCALE); \n",
    "th, dst = cv2.threshold(src, 0, 255, cv2.THRESH_BINARY); \n",
    "cv2.imwrite(\"opencv-threshold-example.jpg\", dst); \n",
    "\n",
    "# th, dst = cv2.threshold(src, 0, 128, cv2.THRESH_BINARY); \n",
    "# cv2.imwrite(\"opencv-thresh-binary-maxval.jpg\", dst); \n",
    "\n",
    "# th, dst = cv2.threshold(src,127,255, cv2.THRESH_BINARY); \n",
    "# cv2.imwrite(\"opencv-thresh-binary.jpg\", dst); \n",
    "\n",
    "#th, dst = cv2.threshold(src,127,255, cv2.THRESH_BINARY_INV); \n",
    "#cv2.imwrite(\"opencv-thresh-binary-inv.jpg\", dst); \n",
    "\n",
    "# th, dst = cv2.threshold(src,127,255, cv2.THRESH_TRUNC); \n",
    "# cv2.imwrite(\"opencv-thresh-trunc.jpg\", dst); \n",
    "\n",
    "# th, dst = cv2.threshold(src,127,255, cv2.THRESH_TOZERO); \n",
    "# cv2.imwrite(\"opencv-thresh-tozero.jpg\", dst); \n",
    "\n",
    "# # Thresholding using THRESH_TOZERO_INV \n",
    "# th, dst = cv2.threshold(src,127,255, cv2.THRESH_TOZERO_INV); \n",
    "# cv2.imwrite(\"opencv-thresh-to-zero-inv.jpg\", dst); "
   ]
  },
  {
   "cell_type": "markdown",
   "id": "14f2a590",
   "metadata": {},
   "source": [
    "\n",
    "# Finding and Drawing the Contours based on thresholded Image"
   ]
  },
  {
   "cell_type": "code",
   "execution_count": 5,
   "id": "cf7d1f45",
   "metadata": {},
   "outputs": [],
   "source": [
    "# detect the contours on the binary image using cv2.CHAIN_APPROX_NONE\n",
    "contours, hierarchy = cv2.findContours(image=dst, mode=cv2.RETR_TREE, method=cv2.CHAIN_APPROX_NONE)\n",
    "                                     \n",
    "# draw contours on the original image\n",
    "image_copy = dst.copy()\n",
    "cv2.drawContours(image=image_copy, contours=contours[9], contourIdx=-1, color=(0, 255, 0), thickness=2, lineType=cv2.LINE_AA)\n",
    "               \n",
    "# see the results\n",
    "cv2.imshow('None approximation', image_copy)\n",
    "cv2.waitKey(0)\n",
    "cv2.imwrite('contours_none_image1.jpg', image_copy)\n",
    "cv2.destroyAllWindows()"
   ]
  },
  {
   "cell_type": "code",
   "execution_count": 6,
   "id": "c118288f",
   "metadata": {},
   "outputs": [],
   "source": [
    "src = cv2.imread(\"opencv-threshold-example.jpg\")\n",
    "cv2.drawContours(image=src, contours=contours[9], contourIdx=-1, color=(0, 255, 0), thickness=2, lineType=cv2.LINE_AA)\n",
    "cv2.imshow('None approximation', src)\n",
    "cv2.waitKey(0)\n",
    "cv2.imwrite('contours_none_image1.jpg', src)\n",
    "cv2.destroyAllWindows()"
   ]
  },
  {
   "cell_type": "markdown",
   "id": "e3800b44",
   "metadata": {},
   "source": [
    "# Functions for automating the Process"
   ]
  },
  {
   "cell_type": "code",
   "execution_count": 1,
   "id": "69c30c82",
   "metadata": {},
   "outputs": [],
   "source": [
    "import csv\n",
    "def find_centroid(filepath):\n",
    "    xes = []\n",
    "    ys = []\n",
    "    with open(filepath) as f:\n",
    "         for line in f:\n",
    "             x, y = map(float,line.split())\n",
    "             xes.append(x)\n",
    "             ys.append(y)\n",
    "    x_cent=int(sum(xes)/len(xes))\n",
    "    y_cent=int(sum(ys)/len(ys))\n",
    "    #print(x_cent*3.14)\n",
    "    #print(y_cent*3.22)\n",
    "    return (int(x_cent*3.14),int(y_cent*3.22))\n"
   ]
  },
  {
   "cell_type": "code",
   "execution_count": 2,
   "id": "6380dbea",
   "metadata": {},
   "outputs": [],
   "source": [
    "def cal_index(contours):\n",
    "    a=[x for x in range(0,len(contours))]\n",
    "\n",
    "    maxval=0\n",
    "    secmaxval=0\n",
    "    i=0\n",
    "    c=0\n",
    "    d=0\n",
    "    for i,x in zip(a,contours):\n",
    "        area = cv2.contourArea(x)\n",
    "        if area>maxval:\n",
    "            maxval=area\n",
    "            c=i\n",
    "    for i,x in zip(a,contours):\n",
    "        area=cv2.contourArea(x)\n",
    "        if area>secmaxval and area!=maxval:\n",
    "            secmaxval=area\n",
    "            d=i\n",
    "    if cv2.pointPolygonTest(contours[d], find_centroid('data/IM_0008-01_inx.txt'), False) == 1.0:\n",
    "         return d\n",
    "    else:\n",
    "         return c\n"
   ]
  },
  {
   "cell_type": "code",
   "execution_count": 3,
   "id": "41b33536",
   "metadata": {},
   "outputs": [],
   "source": [
    "import cv2 \n",
    "src = cv2.imread(\"save/IM_0008_1.jpg\", cv2.IMREAD_GRAYSCALE); \n",
    "th, dst = cv2.threshold(src, 0, 255, cv2.THRESH_BINARY); \n",
    "cv2.imwrite(\"opencv-threshold-example.jpg\", dst);\n",
    "contours, hierarchy = cv2.findContours(image=dst, mode=cv2.RETR_TREE, method=cv2.CHAIN_APPROX_NONE)\n",
    "image_copy = cv2.imread(\"opencv-threshold-example.jpg\")\n",
    "cv2.drawContours(image=image_copy, contours=contours[cal_index(contours)], contourIdx=-1, color=(0, 255, 0), thickness=2, lineType=cv2.LINE_AA)\n",
    "cv2.imshow('None approximation', image_copy)\n",
    "cv2.waitKey(0)\n",
    "cv2.imwrite('contours_none_image1.jpg', image_copy)\n",
    "cv2.destroyAllWindows()"
   ]
  },
  {
   "cell_type": "code",
   "execution_count": 3,
   "id": "4647f740",
   "metadata": {},
   "outputs": [],
   "source": [
    "def image_manipulation(src):\n",
    "    cv2.imwrite(\"opencv-original-example.jpg\",src)\n",
    "    (th, dst) = cv2.threshold(src, 0, 255, cv2.THRESH_BINARY); \n",
    "    cv2.imwrite(\"opencv-threshold-example.jpg\", dst);\n",
    "    contours, hierarchy = cv2.findContours(image=dst, mode=cv2.RETR_TREE, method=cv2.CHAIN_APPROX_NONE)\n",
    "    image_copy = cv2.imread(\"opencv-original-example.jpg\")\n",
    "    cv2.drawContours(image=image_copy, contours=contours[cal_index(contours)], contourIdx=-1, color=(0, 255, 0), thickness=2, lineType=cv2.LINE_AA)\n",
    "    cv2.imwrite('contours_none_image1.jpg', image_copy)\n",
    "    return image_copy"
   ]
  },
  {
   "cell_type": "code",
   "execution_count": 4,
   "id": "b9ddec0e",
   "metadata": {},
   "outputs": [
    {
     "ename": "error",
     "evalue": "OpenCV(4.5.4) D:\\a\\opencv-python\\opencv-python\\opencv\\modules\\imgproc\\src\\color.cpp:182: error: (-215:Assertion failed) !_src.empty() in function 'cv::cvtColor'\n",
     "output_type": "error",
     "traceback": [
      "\u001b[1;31m---------------------------------------------------------------------------\u001b[0m",
      "\u001b[1;31merror\u001b[0m                                     Traceback (most recent call last)",
      "\u001b[1;32m~\\AppData\\Local\\Temp/ipykernel_1672/1807064050.py\u001b[0m in \u001b[0;36m<module>\u001b[1;34m\u001b[0m\n\u001b[0;32m      4\u001b[0m \u001b[1;32mwhile\u001b[0m\u001b[1;33m(\u001b[0m\u001b[1;36m1\u001b[0m\u001b[1;33m)\u001b[0m\u001b[1;33m:\u001b[0m\u001b[1;33m\u001b[0m\u001b[1;33m\u001b[0m\u001b[0m\n\u001b[0;32m      5\u001b[0m     \u001b[0mret\u001b[0m\u001b[1;33m,\u001b[0m \u001b[0mframe\u001b[0m \u001b[1;33m=\u001b[0m \u001b[0mcap\u001b[0m\u001b[1;33m.\u001b[0m\u001b[0mread\u001b[0m\u001b[1;33m(\u001b[0m\u001b[1;33m)\u001b[0m\u001b[1;33m\u001b[0m\u001b[1;33m\u001b[0m\u001b[0m\n\u001b[1;32m----> 6\u001b[1;33m     \u001b[0mframe\u001b[0m\u001b[1;33m=\u001b[0m\u001b[0mcv2\u001b[0m\u001b[1;33m.\u001b[0m\u001b[0mcvtColor\u001b[0m\u001b[1;33m(\u001b[0m\u001b[0mframe\u001b[0m\u001b[1;33m,\u001b[0m \u001b[0mcv2\u001b[0m\u001b[1;33m.\u001b[0m\u001b[0mCOLOR_RGB2GRAY\u001b[0m\u001b[1;33m)\u001b[0m\u001b[1;33m\u001b[0m\u001b[1;33m\u001b[0m\u001b[0m\n\u001b[0m\u001b[0;32m      7\u001b[0m     \u001b[0mframe\u001b[0m\u001b[1;33m=\u001b[0m\u001b[0mimage_manipulation\u001b[0m\u001b[1;33m(\u001b[0m\u001b[0mframe\u001b[0m\u001b[1;33m)\u001b[0m\u001b[1;33m\u001b[0m\u001b[1;33m\u001b[0m\u001b[0m\n\u001b[0;32m      8\u001b[0m     \u001b[0mcv2\u001b[0m\u001b[1;33m.\u001b[0m\u001b[0mimshow\u001b[0m\u001b[1;33m(\u001b[0m\u001b[1;34m'Original'\u001b[0m\u001b[1;33m,\u001b[0m \u001b[0mframe\u001b[0m\u001b[1;33m)\u001b[0m\u001b[1;33m\u001b[0m\u001b[1;33m\u001b[0m\u001b[0m\n",
      "\u001b[1;31merror\u001b[0m: OpenCV(4.5.4) D:\\a\\opencv-python\\opencv-python\\opencv\\modules\\imgproc\\src\\color.cpp:182: error: (-215:Assertion failed) !_src.empty() in function 'cv::cvtColor'\n"
     ]
    }
   ],
   "source": [
    "import time\n",
    "import cv2\n",
    "cap=cv2.VideoCapture('mov-series-008.avi')\n",
    "while(1):\n",
    "    ret, frame = cap.read()  \n",
    "    frame=cv2.cvtColor(frame, cv2.COLOR_RGB2GRAY)\n",
    "    frame=image_manipulation(frame)\n",
    "    cv2.imshow('Original', frame) \n",
    "    time.sleep(0.05)\n",
    "    key=cv2.waitKey(1)\n",
    "    if key==27:\n",
    "        break\n",
    "cap.release()\n",
    "cv2.destroyAllWindows()\n"
   ]
  },
  {
   "cell_type": "markdown",
   "id": "90f8de94",
   "metadata": {},
   "source": [
    "# For finding the Coordinates\n"
   ]
  },
  {
   "cell_type": "code",
   "execution_count": 107,
   "id": "0a46605d",
   "metadata": {},
   "outputs": [
    {
     "name": "stdout",
     "output_type": "stream",
     "text": [
      "399   329\n"
     ]
    }
   ],
   "source": [
    "import cv2\n",
    "  \n",
    "# function to display the coordinates of\n",
    "# of the points clicked on the image\n",
    "def click_event(event, x, y, flags, params):\n",
    " \n",
    "    # checking for left mouse clicks\n",
    "    if event == cv2.EVENT_LBUTTONDOWN:\n",
    " \n",
    "        # displaying the coordinates\n",
    "        # on the Shell\n",
    "        print(x, ' ', y)\n",
    " \n",
    "        # displaying the coordinates\n",
    "        # on the image window\n",
    "        font = cv2.FONT_HERSHEY_SIMPLEX\n",
    "        cv2.putText(img, str(x) + ',' +\n",
    "                    str(y), (x,y), font,\n",
    "                    1, (255, 0, 0), 2)\n",
    "        cv2.imshow('image', img)\n",
    " \n",
    "    # checking for right mouse clicks    \n",
    "    if event==cv2.EVENT_RBUTTONDOWN:\n",
    " \n",
    "        # displaying the coordinates\n",
    "        # on the Shell\n",
    "        print(x, ' ', y)\n",
    " \n",
    "        # displaying the coordinates\n",
    "        # on the image window\n",
    "        font = cv2.FONT_HERSHEY_SIMPLEX\n",
    "        b = img[y, x, 0]\n",
    "        g = img[y, x, 1]\n",
    "        r = img[y, x, 2]\n",
    "        cv2.putText(img, str(b) + ',' +\n",
    "                    str(g) + ',' + str(r),\n",
    "                    (x,y), font, 1,\n",
    "                    (255, 255, 0), 2)\n",
    "        cv2.imshow('image', img)\n",
    " \n",
    "# driver function\n",
    "if __name__==\"__main__\":\n",
    " \n",
    "    # reading the image\n",
    "    img = cv2.imread('save/IM_0003_1.jpg', 1)\n",
    " \n",
    "    # displaying the image\n",
    "    cv2.imshow('image', img)\n",
    " \n",
    "    # setting mouse handler for the image\n",
    "    # and calling the click_event() function\n",
    "    cv2.setMouseCallback('image', click_event)\n",
    " \n",
    "    # wait for a key to be pressed to exit\n",
    "    cv2.waitKey(0)\n",
    " \n",
    "    # close the window\n",
    "    cv2.destroyAllWindows()"
   ]
  }
 ],
 "metadata": {
  "kernelspec": {
   "display_name": "Python 3 (ipykernel)",
   "language": "python",
   "name": "python3"
  },
  "language_info": {
   "codemirror_mode": {
    "name": "ipython",
    "version": 3
   },
   "file_extension": ".py",
   "mimetype": "text/x-python",
   "name": "python",
   "nbconvert_exporter": "python",
   "pygments_lexer": "ipython3",
   "version": "3.9.6"
  }
 },
 "nbformat": 4,
 "nbformat_minor": 5
}
