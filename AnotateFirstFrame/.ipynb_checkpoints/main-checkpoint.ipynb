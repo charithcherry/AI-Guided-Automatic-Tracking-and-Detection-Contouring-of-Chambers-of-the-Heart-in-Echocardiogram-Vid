{
 "cells": [
  {
   "cell_type": "code",
   "execution_count": null,
   "id": "8297c859",
   "metadata": {},
   "outputs": [],
   "source": [
    "from AdjustBoundary import adjustContour\n",
    "from helper import find_files, read_image, selectFrames, save_images\n",
    "import numpy as np\n",
    "import cv2\n",
    "import matplotlib.pyplot as plt\n",
    "import pydicom\n",
    "import os\n",
    "\n",
    "image_files = find_files()\n",
    "frNum = int(input('Enter frame number: '))\n",
    "selectFrames(image_files, frNum-1, frNum)   # Show the selected frames of all the images\n",
    "i = 0\n",
    "crop = 30\n",
    "\n",
    "while i < len(image_files):\n",
    "    ctr = None\n",
    "    name = image_files[i].split(\".\")[0]\n",
    "    c_save = name + \"_inx.txt\"\n",
    "\n",
    "    if os.path.isfile(c_save):           ctr = np.loadtxt(c_save)\n",
    "    im = read_image(image_files[i], frNum)\n",
    "    im = im[crop:-crop,crop:-crop]\n",
    "\n",
    "    exit_mode = adjustContour(im, ctr, im.shape, crop, c_save)\n",
    "    save_images(image_files[i], frNum)\n",
    "    if exit_mode == 'exit':                 break\n",
    "    if exit_mode == 'previous':             i = i - 1\n",
    "    if exit_mode == 'next':                 i = i + 1\n",
    "    if exit_mode == 'done':                 pass\n",
    "    i += 1\n"
   ]
  }
 ],
 "metadata": {
  "kernelspec": {
   "display_name": "Python 3 (ipykernel)",
   "language": "python",
   "name": "python3"
  },
  "language_info": {
   "codemirror_mode": {
    "name": "ipython",
    "version": 3
   },
   "file_extension": ".py",
   "mimetype": "text/x-python",
   "name": "python",
   "nbconvert_exporter": "python",
   "pygments_lexer": "ipython3",
   "version": "3.9.6"
  }
 },
 "nbformat": 4,
 "nbformat_minor": 5
}
